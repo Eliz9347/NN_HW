{
 "cells": [
  {
   "cell_type": "code",
   "execution_count": 1,
   "metadata": {},
   "outputs": [],
   "source": [
    "import torch\n",
    "import matplotlib.pyplot as plt"
   ]
  },
  {
   "cell_type": "markdown",
   "metadata": {},
   "source": [
    "# Задача 1\n",
    "\n",
    "1). Создайте два вещественных тензора: a размером (3, 4) и b размером (12,)\n",
    "\n",
    "2). Создайте тензор c, являющийся тензором b, но размера (2, 2, 3)\n",
    "\n",
    "3). Выведите первый столбец матрицы a с помощью индексации"
   ]
  },
  {
   "cell_type": "code",
   "execution_count": 2,
   "metadata": {
    "scrolled": false
   },
   "outputs": [
    {
     "name": "stdout",
     "output_type": "stream",
     "text": [
      "tensor([[3.5000, 2.1340, 0.2340],\n",
      "        [0.1234, 3.4000, 1.0000],\n",
      "        [7.2300, 0.5670, 2.0000]])\n",
      "tensor([37., 97., 87.,  2., 98., 31., 84., 87., 39., 64., 58., 43.])\n"
     ]
    }
   ],
   "source": [
    "a = torch.FloatTensor([[3.5, 2.134, 0.234],[0.1234, 3.4, 1.0],[7.23, 0.567, 2.0]])\n",
    "b = torch.rand(12,).random_(0, 100)\n",
    "print(a)\n",
    "print(b)"
   ]
  },
  {
   "cell_type": "code",
   "execution_count": 3,
   "metadata": {},
   "outputs": [
    {
     "name": "stdout",
     "output_type": "stream",
     "text": [
      "tensor([[[37., 97.],\n",
      "         [87.,  2.],\n",
      "         [98., 31.]],\n",
      "\n",
      "        [[84., 87.],\n",
      "         [39., 64.],\n",
      "         [58., 43.]]])\n"
     ]
    }
   ],
   "source": [
    "c = b.reshape(2,3,2)\n",
    "print(c)"
   ]
  },
  {
   "cell_type": "code",
   "execution_count": 4,
   "metadata": {},
   "outputs": [
    {
     "name": "stdout",
     "output_type": "stream",
     "text": [
      "tensor([3.5000, 0.1234, 7.2300])\n"
     ]
    }
   ],
   "source": [
    "print(a[:,0])"
   ]
  },
  {
   "cell_type": "markdown",
   "metadata": {},
   "source": [
    "# Задача 2\n",
    "\n",
    "1). Создайте два вещественных тензора: a размером (5, 2) и b размером (1,10)\n",
    "\n",
    "2). Создайте тензор c, являющийся тензором b, но размера (5, 2)\n",
    "\n",
    "3). Произведите все арифметические операции с тензорами a и c"
   ]
  },
  {
   "cell_type": "code",
   "execution_count": 5,
   "metadata": {},
   "outputs": [
    {
     "data": {
      "text/plain": [
       "(tensor([[2.3000, 0.9000],\n",
       "         [0.2300, 4.3000],\n",
       "         [3.7800, 4.5000],\n",
       "         [5.6000, 0.2330],\n",
       "         [3.4300, 0.7600]]),\n",
       " tensor([[94., 52., 30., 24.,  3., 90., 57., 43., 49., 68.]]))"
      ]
     },
     "execution_count": 5,
     "metadata": {},
     "output_type": "execute_result"
    }
   ],
   "source": [
    "a = torch.Tensor([[2.3, 0.9],[0.23, 4.3],[3.78, 4.5],[5.6, 0.233],[3.43, 0.76]])\n",
    "b = torch.FloatTensor(1,10).random_(1, 100)\n",
    "a, b"
   ]
  },
  {
   "cell_type": "code",
   "execution_count": 6,
   "metadata": {},
   "outputs": [
    {
     "data": {
      "text/plain": [
       "tensor([[94., 52.],\n",
       "        [30., 24.],\n",
       "        [ 3., 90.],\n",
       "        [57., 43.],\n",
       "        [49., 68.]])"
      ]
     },
     "execution_count": 6,
     "metadata": {},
     "output_type": "execute_result"
    }
   ],
   "source": [
    "c = b.view(5,2)\n",
    "c"
   ]
  },
  {
   "cell_type": "code",
   "execution_count": 7,
   "metadata": {},
   "outputs": [
    {
     "data": {
      "text/plain": [
       "(tensor([[96.3000, 52.9000],\n",
       "         [30.2300, 28.3000],\n",
       "         [ 6.7800, 94.5000],\n",
       "         [62.6000, 43.2330],\n",
       "         [52.4300, 68.7600]]),\n",
       " tensor([[-91.7000, -51.1000],\n",
       "         [-29.7700, -19.7000],\n",
       "         [  0.7800, -85.5000],\n",
       "         [-51.4000, -42.7670],\n",
       "         [-45.5700, -67.2400]]),\n",
       " tensor([[216.2000,  46.8000],\n",
       "         [  6.9000, 103.2000],\n",
       "         [ 11.3400, 405.0000],\n",
       "         [319.2000,  10.0190],\n",
       "         [168.0700,  51.6800]]),\n",
       " tensor([[0.0245, 0.0173],\n",
       "         [0.0077, 0.1792],\n",
       "         [1.2600, 0.0500],\n",
       "         [0.0982, 0.0054],\n",
       "         [0.0700, 0.0112]]))"
      ]
     },
     "execution_count": 7,
     "metadata": {},
     "output_type": "execute_result"
    }
   ],
   "source": [
    "a+c, a-c, a*c, a/c\n"
   ]
  },
  {
   "cell_type": "markdown",
   "metadata": {},
   "source": [
    "# Задача 3\n",
    "\n",
    "1). Создайте тензор целых чисел images размерности (100, 200, 200, 3) (можно интерпретировать это как 100 картинок размера 200х200 с тремя цветовыми каналами, то есть 100 цветных изображений 200х200). Заполните его нулями\n",
    "\n",
    "2). Сделайте так, чтобы у i-ой по порядку картинки была нарисована белая полоса толщиной два пикселя в строках, которые соответствуют номеру картинки. Например, у 3-ей по порядку картинки белая полоска будет занимать 6 и 7 строки, у 99 -- 198 и 199. Сделать белую строку можно, записав в ячейки тензора число 255 (по всем трём каналам). Выведите пару примеров с помощью pyplot\n",
    "\n",
    "3). Посчитайте среднее тензора images по 1-ой оси (по сути - средняя картинка), умножьте полученный тензор на 70. Нарисуйте с помощью pyplot, должна получиться серая картинка (при взятии среднего нужно привести тензор к float с помощью .float(), при отрисовке обратно к int с помощью .int())"
   ]
  },
  {
   "cell_type": "code",
   "execution_count": 8,
   "metadata": {},
   "outputs": [],
   "source": [
    "images = torch.IntTensor(100, 200, 200, 3).zero_()"
   ]
  },
  {
   "cell_type": "code",
   "execution_count": 9,
   "metadata": {},
   "outputs": [],
   "source": [
    "for i in range(0, 100):\n",
    "    images[i][2*i,:] = 255\n",
    "    images[i][2*i+1,:] = 255"
   ]
  },
  {
   "cell_type": "code",
   "execution_count": 10,
   "metadata": {},
   "outputs": [
    {
     "data": {
      "text/plain": [
       "<matplotlib.image.AxesImage at 0x1ac50ee3208>"
      ]
     },
     "execution_count": 10,
     "metadata": {},
     "output_type": "execute_result"
    },
    {
     "data": {
      "image/png": "[encoded data removed]",
      "text/plain": [
       "<Figure size 432x288 with 1 Axes>"
      ]
     },
     "metadata": {
      "needs_background": "light"
     },
     "output_type": "display_data"
    }
   ],
   "source": [
    "plt.imshow(images[3])"
   ]
  },
  {
   "cell_type": "code",
   "execution_count": 11,
   "metadata": {},
   "outputs": [
    {
     "data": {
      "text/plain": [
       "<matplotlib.image.AxesImage at 0x1ac50fed748>"
      ]
     },
     "execution_count": 11,
     "metadata": {},
     "output_type": "execute_result"
    },
    {
     "data": {
      "image/png": "[encoded data removed]",
      "text/plain": [
       "<Figure size 432x288 with 1 Axes>"
      ]
     },
     "metadata": {
      "needs_background": "light"
     },
     "output_type": "display_data"
    }
   ],
   "source": [
    "plt.imshow(images[89])\n"
   ]
  },
  {
   "cell_type": "code",
   "execution_count": 12,
   "metadata": {},
   "outputs": [
    {
     "data": {
      "text/plain": [
       "<matplotlib.image.AxesImage at 0x1ac53e48588>"
      ]
     },
     "execution_count": 12,
     "metadata": {},
     "output_type": "execute_result"
    },
    {
     "data": {
      "image/png": "[encoded data removed]",
      "text/plain": [
       "<Figure size 432x288 with 1 Axes>"
      ]
     },
     "metadata": {
      "needs_background": "light"
     },
     "output_type": "display_data"
    }
   ],
   "source": [
    "images_float = images.float()\n",
    "mean = images_float.mean(0)\n",
    "mean *= 70\n",
    "mean = mean.int()\n",
    "plt.imshow(mean)"
   ]
  },
  {
   "cell_type": "markdown",
   "metadata": {},
   "source": [
    "# Задача 4\n",
    "\n",
    "Напишите функцию forward_pass(X, w) (w0 входит в w) для одного нейрона (с сигмоидой) с помощью PyTorch"
   ]
  },
  {
   "cell_type": "code",
   "execution_count": 13,
   "metadata": {},
   "outputs": [],
   "source": [
    "import numpy as np"
   ]
  },
  {
   "cell_type": "code",
   "execution_count": 17,
   "metadata": {},
   "outputs": [],
   "source": [
    "def forward_pass(X, w):\n",
    "    X = torch.cat((X, torch.ones((X.shape[0], 1))), dim=1)\n",
    "    return torch.sigmoid(torch.matmul(X, w))"
   ]
  },
  {
   "cell_type": "code",
   "execution_count": 15,
   "metadata": {},
   "outputs": [
    {
     "data": {
      "text/plain": [
       "tensor([[0.7167],\n",
       "        [0.8220],\n",
       "        [0.7318]])"
      ]
     },
     "execution_count": 15,
     "metadata": {},
     "output_type": "execute_result"
    }
   ],
   "source": [
    "X1 = torch.rand((3,2))\n",
    "w1 = torch.rand(3, 1)\n",
    "res = forward_pass(X1, w1) \n",
    "res"
   ]
  },
  {
   "cell_type": "code",
   "execution_count": 16,
   "metadata": {},
   "outputs": [],
   "source": [
    "#tensor([[0.7200, 0.6524, 0.6776]])"
   ]
  }
 ],
 "metadata": {
  "kernelspec": {
   "display_name": "Python 3",
   "language": "python",
   "name": "python3"
  },
  "language_info": {
   "codemirror_mode": {
    "name": "ipython",
    "version": 3
   },
   "file_extension": ".py",
   "mimetype": "text/x-python",
   "name": "python",
   "nbconvert_exporter": "python",
   "pygments_lexer": "ipython3",
   "version": "3.7.9"
  }
 },
 "nbformat": 4,
 "nbformat_minor": 2
}
